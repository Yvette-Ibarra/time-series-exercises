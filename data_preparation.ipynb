{
 "cells": [
  {
   "cell_type": "markdown",
   "id": "33d0579e",
   "metadata": {},
   "source": [
    "# Data Preperation"
   ]
  },
  {
   "cell_type": "markdown",
   "id": "2ab15960",
   "metadata": {},
   "source": [
    "### import"
   ]
  },
  {
   "cell_type": "code",
   "execution_count": 3,
   "id": "4ca3be1d",
   "metadata": {},
   "outputs": [],
   "source": [
    "import pandas as pd\n",
    "from datetime import timedelta, datetime\n",
    "import numpy as np\n",
    "import matplotlib.pyplot as plt\n",
    "import seaborn as sns\n",
    "import statsmodels.api as sm\n",
    "from env import user, password, host\n",
    "import os\n",
    "\n",
    "from acquire import wrangle_store_data\n",
    "import warnings\n",
    "warnings.filterwarnings(\"ignore\")\n",
    "\n",
    "# plotting defaults\n",
    "plt.rc('figure', figsize=(13, 7))\n",
    "plt.style.use('seaborn-whitegrid')\n",
    "plt.rc('font', size=16)"
   ]
  },
  {
   "cell_type": "markdown",
   "id": "e0ae6f8f",
   "metadata": {},
   "source": [
    "* The end result of this exercise should be a file named prepare.py."
   ]
  },
  {
   "cell_type": "markdown",
   "id": "2b923dbd",
   "metadata": {},
   "source": [
    "### Using your store items data:"
   ]
  },
  {
   "cell_type": "code",
   "execution_count": null,
   "id": "f5708822",
   "metadata": {
    "scrolled": true
   },
   "outputs": [],
   "source": [
    "df = wrangle_store_data()\n",
    "df.head(3)"
   ]
  },
  {
   "cell_type": "code",
   "execution_count": null,
   "id": "e4df2dea",
   "metadata": {},
   "outputs": [],
   "source": [
    "df.dtypes"
   ]
  },
  {
   "cell_type": "code",
   "execution_count": null,
   "id": "d3633e49",
   "metadata": {},
   "outputs": [],
   "source": [
    "df.isnull().sum()"
   ]
  },
  {
   "cell_type": "markdown",
   "id": "1eddfb24",
   "metadata": {},
   "source": [
    "### 1. Convert date column to datetime format."
   ]
  },
  {
   "cell_type": "code",
   "execution_count": null,
   "id": "2d745d45",
   "metadata": {},
   "outputs": [],
   "source": [
    "# Reassign the sale_date column to be a datetime type\n",
    "df.sale_date = pd.to_datetime(df.sale_date)"
   ]
  },
  {
   "cell_type": "markdown",
   "id": "28f7735c",
   "metadata": {},
   "source": [
    "### 2. Plot the distribution of sale_amount and item_price."
   ]
  },
  {
   "cell_type": "code",
   "execution_count": null,
   "id": "4f8a12cc",
   "metadata": {},
   "outputs": [],
   "source": [
    "sns.histplot(df.sale_amount)"
   ]
  },
  {
   "cell_type": "code",
   "execution_count": null,
   "id": "e3d90eb2",
   "metadata": {
    "scrolled": true
   },
   "outputs": [],
   "source": [
    "sns.histplot(df.item_price)"
   ]
  },
  {
   "cell_type": "markdown",
   "id": "58a034a8",
   "metadata": {},
   "source": [
    "### 3. Set the index to be the datetime variable."
   ]
  },
  {
   "cell_type": "code",
   "execution_count": null,
   "id": "e7e8d083",
   "metadata": {},
   "outputs": [],
   "source": [
    "# Sort rows by the date and then set the index as that date\n",
    "df = df.set_index(\"sale_date\").sort_index()"
   ]
  },
  {
   "cell_type": "code",
   "execution_count": null,
   "id": "2fc8a612",
   "metadata": {},
   "outputs": [],
   "source": [
    "df.head(3)"
   ]
  },
  {
   "cell_type": "markdown",
   "id": "34e68913",
   "metadata": {},
   "source": [
    "### 4. Add a 'month' and 'day of week' column to your dataframe."
   ]
  },
  {
   "cell_type": "code",
   "execution_count": null,
   "id": "6540bb83",
   "metadata": {},
   "outputs": [],
   "source": [
    "df['month_name']=df.index.month_name()\n",
    "df['day_of_week']= df.index.day_name()"
   ]
  },
  {
   "cell_type": "code",
   "execution_count": null,
   "id": "1ed194d6",
   "metadata": {},
   "outputs": [],
   "source": [
    "df.head(5)"
   ]
  },
  {
   "cell_type": "code",
   "execution_count": null,
   "id": "0067a13c",
   "metadata": {},
   "outputs": [],
   "source": [
    "# other way to convert\n",
    "df['month_name']=df.index.strftime('%B')"
   ]
  },
  {
   "cell_type": "markdown",
   "id": "d109181d",
   "metadata": {},
   "source": [
    "### 5. Add a column to your dataframe, sales_total, which is a derived from sale_amount (total items) and item_price."
   ]
  },
  {
   "cell_type": "code",
   "execution_count": null,
   "id": "9067fafb",
   "metadata": {},
   "outputs": [],
   "source": [
    "# multiply sales_amount and item_price\n",
    "df['sale_amount']* df['item_price']"
   ]
  },
  {
   "cell_type": "code",
   "execution_count": null,
   "id": "7320d464",
   "metadata": {},
   "outputs": [],
   "source": [
    "# save multiplication into data frame as sales_total\n",
    "df['sales_total']= df['sale_amount']* df['item_price']"
   ]
  },
  {
   "cell_type": "code",
   "execution_count": null,
   "id": "8ccf891c",
   "metadata": {},
   "outputs": [],
   "source": [
    "df"
   ]
  },
  {
   "cell_type": "markdown",
   "id": "fc56003b",
   "metadata": {},
   "source": [
    "### 6.Make sure all the work that you have done above is reproducible. That is, you should put the code above into separate functions and be able to re-run the functions and get the same results."
   ]
  },
  {
   "cell_type": "code",
   "execution_count": 4,
   "id": "8ed0a448",
   "metadata": {},
   "outputs": [],
   "source": [
    "def datetime_type(df,date):\n",
    "    ''' datetime_type takes in a dataframe and a ready date columne and reassigns the date to the datetime type\n",
    "    returns df'''\n",
    "    df[date] = pd.to_datetime(df[date])\n",
    "    return df"
   ]
  },
  {
   "cell_type": "code",
   "execution_count": 5,
   "id": "801029fb",
   "metadata": {
    "scrolled": true
   },
   "outputs": [
    {
     "ename": "NameError",
     "evalue": "name 'df' is not defined",
     "output_type": "error",
     "traceback": [
      "\u001b[0;31m---------------------------------------------------------------------------\u001b[0m",
      "\u001b[0;31mNameError\u001b[0m                                 Traceback (most recent call last)",
      "Input \u001b[0;32mIn [5]\u001b[0m, in \u001b[0;36m<cell line: 1>\u001b[0;34m()\u001b[0m\n\u001b[0;32m----> 1\u001b[0m \u001b[43mdf\u001b[49m\u001b[38;5;241m.\u001b[39mhead()\n",
      "\u001b[0;31mNameError\u001b[0m: name 'df' is not defined"
     ]
    }
   ],
   "source": [
    "df.head()"
   ]
  },
  {
   "cell_type": "code",
   "execution_count": 6,
   "id": "970af31e",
   "metadata": {},
   "outputs": [
    {
     "ename": "NameError",
     "evalue": "name 'df' is not defined",
     "output_type": "error",
     "traceback": [
      "\u001b[0;31m---------------------------------------------------------------------------\u001b[0m",
      "\u001b[0;31mNameError\u001b[0m                                 Traceback (most recent call last)",
      "Input \u001b[0;32mIn [6]\u001b[0m, in \u001b[0;36m<cell line: 1>\u001b[0;34m()\u001b[0m\n\u001b[0;32m----> 1\u001b[0m df \u001b[38;5;241m=\u001b[39m datetime_type(\u001b[43mdf\u001b[49m,\u001b[38;5;124m'\u001b[39m\u001b[38;5;124msale_date\u001b[39m\u001b[38;5;124m'\u001b[39m)\n\u001b[1;32m      2\u001b[0m df\n",
      "\u001b[0;31mNameError\u001b[0m: name 'df' is not defined"
     ]
    }
   ],
   "source": [
    "df = datetime_type(df,'sale_date')\n",
    "df"
   ]
  },
  {
   "cell_type": "code",
   "execution_count": null,
   "id": "1603fa73",
   "metadata": {},
   "outputs": [],
   "source": [
    "df.dtypes"
   ]
  },
  {
   "cell_type": "code",
   "execution_count": 7,
   "id": "8cc4b35f",
   "metadata": {},
   "outputs": [],
   "source": [
    "def distribution( df, var):\n",
    "    ''' distribution takes in a dataframe and variable and returns a histoplot \n",
    "    that  display the distirbution of the variable'''\n",
    "    sns.histplot(df[var])\n",
    "    plt.show();"
   ]
  },
  {
   "cell_type": "code",
   "execution_count": null,
   "id": "0a5567e8",
   "metadata": {},
   "outputs": [],
   "source": [
    "distribution(df,'sale_amount')"
   ]
  },
  {
   "cell_type": "code",
   "execution_count": 8,
   "id": "211d9ba5",
   "metadata": {},
   "outputs": [],
   "source": [
    "def set_date_to_index(df, date):\n",
    "    ''' set_date_to_index takes in a dataframe and string date and set the index of data frame to the index\n",
    "    returns altered data frame'''\n",
    "    # Sort rows by the date and then set the index as that date\n",
    "    df = df.set_index(date).sort_index()\n",
    "    return df"
   ]
  },
  {
   "cell_type": "code",
   "execution_count": null,
   "id": "634658ca",
   "metadata": {},
   "outputs": [],
   "source": [
    "df= set_date_to_index(df,'sale_date')"
   ]
  },
  {
   "cell_type": "code",
   "execution_count": null,
   "id": "f4d69be3",
   "metadata": {
    "scrolled": false
   },
   "outputs": [],
   "source": [
    "df"
   ]
  },
  {
   "cell_type": "code",
   "execution_count": null,
   "id": "e2543ebc",
   "metadata": {},
   "outputs": [],
   "source": [
    "\n",
    "str('month_name()').strip('()')\n"
   ]
  },
  {
   "cell_type": "markdown",
   "id": "f07160af",
   "metadata": {},
   "source": [
    "def add_date_column(df,'month_name()'):\n",
    "    ''' add_date_column takes in a df:data frame and a time frame method run_method: defaulted to  month_name()\n",
    "    and returns a dataframe wiht a new column,'''\n",
    "    \n",
    "    #name = str('month_name()').strip('()')\n",
    "    df['name']=df.index[month_name()]\n",
    "    \n",
    "    return df"
   ]
  },
  {
   "cell_type": "code",
   "execution_count": 9,
   "id": "3325b92a",
   "metadata": {},
   "outputs": [],
   "source": [
    "def add_date_column_string(df,column_name, string='%B'):\n",
    "    ''' add_date_column takes in a df:data frame and a time frame method run_method: defaulted to %B  month_name()\n",
    "    and returns a dataframe wiht a new column,'''\n",
    "\n",
    "    df[column_name]=df.index.strftime(string)\n",
    "    \n",
    "    return df"
   ]
  },
  {
   "cell_type": "code",
   "execution_count": null,
   "id": "bc75ca06",
   "metadata": {
    "scrolled": true
   },
   "outputs": [],
   "source": [
    "add_date_column_string(df,'day_name','%A')"
   ]
  },
  {
   "cell_type": "code",
   "execution_count": 10,
   "id": "78cdf367",
   "metadata": {},
   "outputs": [],
   "source": [
    "def multiply_columns_addto_df(df, column_name, var1, var2):\n",
    "    ''' multiply_columns_addto_df takes in a dataframe and multiplies two of its variables and sa\n",
    "    returs'''\n",
    "    df[column_name]= df[var1]* df[var2]\n",
    "    return df"
   ]
  },
  {
   "cell_type": "code",
   "execution_count": null,
   "id": "5fc3fd03",
   "metadata": {},
   "outputs": [],
   "source": [
    "df = multiply_columns_addto_df(df, 'sales_total','sale_amount','item_price')"
   ]
  },
  {
   "cell_type": "code",
   "execution_count": null,
   "id": "0ae7a81b",
   "metadata": {},
   "outputs": [],
   "source": [
    "df"
   ]
  },
  {
   "cell_type": "markdown",
   "id": "5289eb86",
   "metadata": {},
   "source": [
    "# German power data"
   ]
  },
  {
   "cell_type": "markdown",
   "id": "8f3bd33e",
   "metadata": {},
   "source": [
    "* Using the OPS data acquired in the Acquire exercises opsd_germany_daily.csv, complete the following:"
   ]
  },
  {
   "cell_type": "code",
   "execution_count": 13,
   "id": "d163e5d8",
   "metadata": {},
   "outputs": [],
   "source": [
    "german = pd.read_csv(\"opsd_germany_daily.csv\")"
   ]
  },
  {
   "cell_type": "code",
   "execution_count": 14,
   "id": "8149d73c",
   "metadata": {
    "scrolled": true
   },
   "outputs": [
    {
     "data": {
      "text/html": [
       "<div>\n",
       "<style scoped>\n",
       "    .dataframe tbody tr th:only-of-type {\n",
       "        vertical-align: middle;\n",
       "    }\n",
       "\n",
       "    .dataframe tbody tr th {\n",
       "        vertical-align: top;\n",
       "    }\n",
       "\n",
       "    .dataframe thead th {\n",
       "        text-align: right;\n",
       "    }\n",
       "</style>\n",
       "<table border=\"1\" class=\"dataframe\">\n",
       "  <thead>\n",
       "    <tr style=\"text-align: right;\">\n",
       "      <th></th>\n",
       "      <th>Date</th>\n",
       "      <th>Consumption</th>\n",
       "      <th>Wind</th>\n",
       "      <th>Solar</th>\n",
       "      <th>Wind+Solar</th>\n",
       "    </tr>\n",
       "  </thead>\n",
       "  <tbody>\n",
       "    <tr>\n",
       "      <th>0</th>\n",
       "      <td>2006-01-01</td>\n",
       "      <td>1069.184</td>\n",
       "      <td>NaN</td>\n",
       "      <td>NaN</td>\n",
       "      <td>NaN</td>\n",
       "    </tr>\n",
       "    <tr>\n",
       "      <th>1</th>\n",
       "      <td>2006-01-02</td>\n",
       "      <td>1380.521</td>\n",
       "      <td>NaN</td>\n",
       "      <td>NaN</td>\n",
       "      <td>NaN</td>\n",
       "    </tr>\n",
       "    <tr>\n",
       "      <th>2</th>\n",
       "      <td>2006-01-03</td>\n",
       "      <td>1442.533</td>\n",
       "      <td>NaN</td>\n",
       "      <td>NaN</td>\n",
       "      <td>NaN</td>\n",
       "    </tr>\n",
       "  </tbody>\n",
       "</table>\n",
       "</div>"
      ],
      "text/plain": [
       "         Date  Consumption  Wind  Solar  Wind+Solar\n",
       "0  2006-01-01     1069.184   NaN    NaN         NaN\n",
       "1  2006-01-02     1380.521   NaN    NaN         NaN\n",
       "2  2006-01-03     1442.533   NaN    NaN         NaN"
      ]
     },
     "execution_count": 14,
     "metadata": {},
     "output_type": "execute_result"
    }
   ],
   "source": [
    "german.head(3)"
   ]
  },
  {
   "cell_type": "code",
   "execution_count": null,
   "id": "9af7354b",
   "metadata": {},
   "outputs": [],
   "source": [
    "german.dtypes"
   ]
  },
  {
   "cell_type": "code",
   "execution_count": null,
   "id": "2f7f2bc1",
   "metadata": {},
   "outputs": [],
   "source": [
    "german.isnull().sum()"
   ]
  },
  {
   "cell_type": "markdown",
   "id": "0a8c2032",
   "metadata": {},
   "source": [
    "### 1. Convert date column to datetime format."
   ]
  },
  {
   "cell_type": "code",
   "execution_count": null,
   "id": "880f16bb",
   "metadata": {
    "scrolled": true
   },
   "outputs": [],
   "source": [
    "german = datetime_type(german,'Date')"
   ]
  },
  {
   "cell_type": "code",
   "execution_count": null,
   "id": "b6ee0d7f",
   "metadata": {},
   "outputs": [],
   "source": [
    "german"
   ]
  },
  {
   "cell_type": "markdown",
   "id": "70c98398",
   "metadata": {},
   "source": [
    "### 2. Plot the distribution of each of your variables."
   ]
  },
  {
   "cell_type": "code",
   "execution_count": null,
   "id": "456d295b",
   "metadata": {},
   "outputs": [],
   "source": [
    "for col in list(german.columns.drop('Date')):\n",
    "    plt.figure()\n",
    "    sns.histplot(german[col])\n",
    "    plt.title('Distribution of {}'.format(col))"
   ]
  },
  {
   "cell_type": "markdown",
   "id": "5a37fc73",
   "metadata": {},
   "source": [
    "### 3. Set the index to be the datetime variable."
   ]
  },
  {
   "cell_type": "code",
   "execution_count": null,
   "id": "fb01d584",
   "metadata": {},
   "outputs": [],
   "source": [
    "german = set_date_to_index(german, \"Date\")"
   ]
  },
  {
   "cell_type": "code",
   "execution_count": null,
   "id": "db9a91a1",
   "metadata": {},
   "outputs": [],
   "source": [
    "german"
   ]
  },
  {
   "cell_type": "markdown",
   "id": "5f05303e",
   "metadata": {},
   "source": [
    "### 4. Add a month and a year column to your dataframe."
   ]
  },
  {
   "cell_type": "code",
   "execution_count": null,
   "id": "ba907285",
   "metadata": {},
   "outputs": [],
   "source": [
    "german= add_date_column_string(df,'month_name', string='%B')"
   ]
  },
  {
   "cell_type": "code",
   "execution_count": null,
   "id": "8cd83f07",
   "metadata": {},
   "outputs": [],
   "source": [
    "german= add_date_column_string(df,'year', string='%Y')"
   ]
  },
  {
   "cell_type": "code",
   "execution_count": null,
   "id": "f30f5922",
   "metadata": {},
   "outputs": [],
   "source": [
    "german"
   ]
  },
  {
   "cell_type": "markdown",
   "id": "2c6e44b3",
   "metadata": {},
   "source": [
    "### 5. Fill any missing values."
   ]
  },
  {
   "cell_type": "code",
   "execution_count": null,
   "id": "6812bb92",
   "metadata": {},
   "outputs": [],
   "source": [
    "german.isnull().sum()\n"
   ]
  },
  {
   "cell_type": "code",
   "execution_count": null,
   "id": "6d1e805d",
   "metadata": {},
   "outputs": [],
   "source": [
    "german.fillna(0, inplace=True)\n",
    "german.head()"
   ]
  },
  {
   "cell_type": "markdown",
   "id": "05e68e87",
   "metadata": {},
   "source": [
    "### 6. Make sure all the work that you have done above is reproducible. That is, you should put the code above into separate functions and be able to re-run the functions and get the same results."
   ]
  },
  {
   "cell_type": "code",
   "execution_count": null,
   "id": "90fd646b",
   "metadata": {},
   "outputs": [],
   "source": [
    "def datetime_type(df,date):\n",
    "    ''' datetime_type takes in a dataframe and a ready date columne and reassigns the date to the datetime type\n",
    "    returns df'''\n",
    "    df[date] = pd.to_datetime(df[date])\n",
    "    return df\n",
    "\n",
    "def distribution( df, var):\n",
    "    ''' distribution takes in a dataframe and variable and returns a histoplot \n",
    "    that  display the distirbution of the variable'''\n",
    "    sns.histplot(df[var])\n",
    "    plt.show();\n",
    "\n",
    "\n",
    "def set_date_to_index(df, date):\n",
    "    ''' set_date_to_index takes in a dataframe and string date and set the index of data frame to the index\n",
    "    returns altered data frame'''\n",
    "    # Sort rows by the date and then set the index as that date\n",
    "    df = df.set_index(date).sort_index()\n",
    "    return df\n",
    "\n",
    "def add_date_column_string(df,column_name, string='%B'):\n",
    "    ''' add_date_column takes in a df:data frame and a time frame method run_method: defaulted to %B  month_name()\n",
    "    and returns a dataframe wiht a new column,'''\n",
    "\n",
    "    df[column_name]=df.index.strftime(string)\n",
    "    \n",
    "    return df\n",
    "\n",
    "def multiply_columns_addto_df(df, column_name, var1, var2):\n",
    "    ''' multiply_columns_addto_df takes in a dataframe and multiplies two of its variables and sa\n",
    "    returs'''\n",
    "    df[column_name]= df[var1]* df[var2]\n",
    "    return df"
   ]
  },
  {
   "cell_type": "code",
   "execution_count": 23,
   "id": "28e30712",
   "metadata": {},
   "outputs": [],
   "source": [
    "def fillna(df):\n",
    "    '''fill na takes in a dataframe and fill in the nans/nulls'''\n",
    "    df.fillna(0, inplace=True)\n",
    "    return df"
   ]
  },
  {
   "cell_type": "code",
   "execution_count": null,
   "id": "a176090b",
   "metadata": {},
   "outputs": [],
   "source": [
    "df =fillna(german)\n",
    "df"
   ]
  },
  {
   "cell_type": "code",
   "execution_count": 24,
   "id": "7d1d7caf",
   "metadata": {},
   "outputs": [],
   "source": [
    "def get_ops(ops):\n",
    "\n",
    "    ops = datetime_type(german,'Date')\n",
    "    ops = set_date_to_index(german, \"Date\")\n",
    "    ops= add_date_column_string(ops,'day_name', string='%A')\n",
    "    ops= add_date_column_string(ops,'month_name', string='%B')\n",
    "    ops= add_date_column_string(ops,'year', string='%Y')\n",
    "    fillna(ops)\n",
    "    return ops\n",
    "    "
   ]
  },
  {
   "cell_type": "code",
   "execution_count": 25,
   "id": "ccabfeac",
   "metadata": {
    "scrolled": false
   },
   "outputs": [
    {
     "data": {
      "text/html": [
       "<div>\n",
       "<style scoped>\n",
       "    .dataframe tbody tr th:only-of-type {\n",
       "        vertical-align: middle;\n",
       "    }\n",
       "\n",
       "    .dataframe tbody tr th {\n",
       "        vertical-align: top;\n",
       "    }\n",
       "\n",
       "    .dataframe thead th {\n",
       "        text-align: right;\n",
       "    }\n",
       "</style>\n",
       "<table border=\"1\" class=\"dataframe\">\n",
       "  <thead>\n",
       "    <tr style=\"text-align: right;\">\n",
       "      <th></th>\n",
       "      <th>Consumption</th>\n",
       "      <th>Wind</th>\n",
       "      <th>Solar</th>\n",
       "      <th>Wind+Solar</th>\n",
       "      <th>day_name</th>\n",
       "      <th>month_name</th>\n",
       "      <th>year</th>\n",
       "    </tr>\n",
       "    <tr>\n",
       "      <th>Date</th>\n",
       "      <th></th>\n",
       "      <th></th>\n",
       "      <th></th>\n",
       "      <th></th>\n",
       "      <th></th>\n",
       "      <th></th>\n",
       "      <th></th>\n",
       "    </tr>\n",
       "  </thead>\n",
       "  <tbody>\n",
       "    <tr>\n",
       "      <th>2006-01-01</th>\n",
       "      <td>1069.18400</td>\n",
       "      <td>0.000</td>\n",
       "      <td>0.000</td>\n",
       "      <td>0.000</td>\n",
       "      <td>Sunday</td>\n",
       "      <td>January</td>\n",
       "      <td>2006</td>\n",
       "    </tr>\n",
       "    <tr>\n",
       "      <th>2006-01-02</th>\n",
       "      <td>1380.52100</td>\n",
       "      <td>0.000</td>\n",
       "      <td>0.000</td>\n",
       "      <td>0.000</td>\n",
       "      <td>Monday</td>\n",
       "      <td>January</td>\n",
       "      <td>2006</td>\n",
       "    </tr>\n",
       "    <tr>\n",
       "      <th>2006-01-03</th>\n",
       "      <td>1442.53300</td>\n",
       "      <td>0.000</td>\n",
       "      <td>0.000</td>\n",
       "      <td>0.000</td>\n",
       "      <td>Tuesday</td>\n",
       "      <td>January</td>\n",
       "      <td>2006</td>\n",
       "    </tr>\n",
       "    <tr>\n",
       "      <th>2006-01-04</th>\n",
       "      <td>1457.21700</td>\n",
       "      <td>0.000</td>\n",
       "      <td>0.000</td>\n",
       "      <td>0.000</td>\n",
       "      <td>Wednesday</td>\n",
       "      <td>January</td>\n",
       "      <td>2006</td>\n",
       "    </tr>\n",
       "    <tr>\n",
       "      <th>2006-01-05</th>\n",
       "      <td>1477.13100</td>\n",
       "      <td>0.000</td>\n",
       "      <td>0.000</td>\n",
       "      <td>0.000</td>\n",
       "      <td>Thursday</td>\n",
       "      <td>January</td>\n",
       "      <td>2006</td>\n",
       "    </tr>\n",
       "    <tr>\n",
       "      <th>...</th>\n",
       "      <td>...</td>\n",
       "      <td>...</td>\n",
       "      <td>...</td>\n",
       "      <td>...</td>\n",
       "      <td>...</td>\n",
       "      <td>...</td>\n",
       "      <td>...</td>\n",
       "    </tr>\n",
       "    <tr>\n",
       "      <th>2017-12-27</th>\n",
       "      <td>1263.94091</td>\n",
       "      <td>394.507</td>\n",
       "      <td>16.530</td>\n",
       "      <td>411.037</td>\n",
       "      <td>Wednesday</td>\n",
       "      <td>December</td>\n",
       "      <td>2017</td>\n",
       "    </tr>\n",
       "    <tr>\n",
       "      <th>2017-12-28</th>\n",
       "      <td>1299.86398</td>\n",
       "      <td>506.424</td>\n",
       "      <td>14.162</td>\n",
       "      <td>520.586</td>\n",
       "      <td>Thursday</td>\n",
       "      <td>December</td>\n",
       "      <td>2017</td>\n",
       "    </tr>\n",
       "    <tr>\n",
       "      <th>2017-12-29</th>\n",
       "      <td>1295.08753</td>\n",
       "      <td>584.277</td>\n",
       "      <td>29.854</td>\n",
       "      <td>614.131</td>\n",
       "      <td>Friday</td>\n",
       "      <td>December</td>\n",
       "      <td>2017</td>\n",
       "    </tr>\n",
       "    <tr>\n",
       "      <th>2017-12-30</th>\n",
       "      <td>1215.44897</td>\n",
       "      <td>721.247</td>\n",
       "      <td>7.467</td>\n",
       "      <td>728.714</td>\n",
       "      <td>Saturday</td>\n",
       "      <td>December</td>\n",
       "      <td>2017</td>\n",
       "    </tr>\n",
       "    <tr>\n",
       "      <th>2017-12-31</th>\n",
       "      <td>1107.11488</td>\n",
       "      <td>721.176</td>\n",
       "      <td>19.980</td>\n",
       "      <td>741.156</td>\n",
       "      <td>Sunday</td>\n",
       "      <td>December</td>\n",
       "      <td>2017</td>\n",
       "    </tr>\n",
       "  </tbody>\n",
       "</table>\n",
       "<p>4383 rows × 7 columns</p>\n",
       "</div>"
      ],
      "text/plain": [
       "            Consumption     Wind   Solar  Wind+Solar   day_name month_name  \\\n",
       "Date                                                                         \n",
       "2006-01-01   1069.18400    0.000   0.000       0.000     Sunday    January   \n",
       "2006-01-02   1380.52100    0.000   0.000       0.000     Monday    January   \n",
       "2006-01-03   1442.53300    0.000   0.000       0.000    Tuesday    January   \n",
       "2006-01-04   1457.21700    0.000   0.000       0.000  Wednesday    January   \n",
       "2006-01-05   1477.13100    0.000   0.000       0.000   Thursday    January   \n",
       "...                 ...      ...     ...         ...        ...        ...   \n",
       "2017-12-27   1263.94091  394.507  16.530     411.037  Wednesday   December   \n",
       "2017-12-28   1299.86398  506.424  14.162     520.586   Thursday   December   \n",
       "2017-12-29   1295.08753  584.277  29.854     614.131     Friday   December   \n",
       "2017-12-30   1215.44897  721.247   7.467     728.714   Saturday   December   \n",
       "2017-12-31   1107.11488  721.176  19.980     741.156     Sunday   December   \n",
       "\n",
       "            year  \n",
       "Date              \n",
       "2006-01-01  2006  \n",
       "2006-01-02  2006  \n",
       "2006-01-03  2006  \n",
       "2006-01-04  2006  \n",
       "2006-01-05  2006  \n",
       "...          ...  \n",
       "2017-12-27  2017  \n",
       "2017-12-28  2017  \n",
       "2017-12-29  2017  \n",
       "2017-12-30  2017  \n",
       "2017-12-31  2017  \n",
       "\n",
       "[4383 rows x 7 columns]"
      ]
     },
     "execution_count": 25,
     "metadata": {},
     "output_type": "execute_result"
    }
   ],
   "source": [
    "get_ops(german)"
   ]
  },
  {
   "cell_type": "code",
   "execution_count": null,
   "id": "522ab0a6",
   "metadata": {},
   "outputs": [],
   "source": []
  }
 ],
 "metadata": {
  "kernelspec": {
   "display_name": "Python 3 (ipykernel)",
   "language": "python",
   "name": "python3"
  },
  "language_info": {
   "codemirror_mode": {
    "name": "ipython",
    "version": 3
   },
   "file_extension": ".py",
   "mimetype": "text/x-python",
   "name": "python",
   "nbconvert_exporter": "python",
   "pygments_lexer": "ipython3",
   "version": "3.9.12"
  }
 },
 "nbformat": 4,
 "nbformat_minor": 5
}
